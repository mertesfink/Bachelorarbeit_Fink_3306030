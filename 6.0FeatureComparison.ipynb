{
 "cells": [
  {
   "cell_type": "markdown",
   "id": "9424551b-ab31-48e2-8e4f-d137d0ad9fe6",
   "metadata": {},
   "source": [
    "## Features der Feature Selection mit den Features der Domänexperten vergleichen"
   ]
  },
  {
   "cell_type": "code",
   "execution_count": 1,
   "id": "34d235c0-b5e5-48c7-8a28-7a0853704c8a",
   "metadata": {},
   "outputs": [],
   "source": [
    "from src import database\n",
    "from src.Dataset import Dataset\n",
    "import numpy as np\n",
    "import pandas as pd\n",
    "from src import plot\n",
    "\n",
    "from sklearn.linear_model import LinearRegression\n",
    "from sklearn.ensemble import RandomForestRegressor\n",
    "from sklearn.svm import SVR\n",
    "import xgboost as xgb"
   ]
  },
  {
   "cell_type": "code",
   "execution_count": 2,
   "id": "b4add9b5-fad7-417e-aa37-2adc3330c64b",
   "metadata": {},
   "outputs": [
    {
     "name": "stdout",
     "output_type": "stream",
     "text": [
      "Gemeinsame Spalten: ['Oberflächenbehandlung', 'NA Dicke', 'SD Suchbegriff 1 K.', 'NA Kerbentiefe', 'Aktive Oberfläche']\n"
     ]
    }
   ],
   "source": [
    "def vergleiche_spalten(liste1, liste2):\n",
    "    gemeinsame_spalten = []\n",
    "    for spalte in liste1:\n",
    "        if spalte in liste2:\n",
    "            gemeinsame_spalten.append(spalte)\n",
    "    return gemeinsame_spalten\n",
    "\n",
    "df = pd.read_csv(\"data/df_preprocessed_all.csv\", sep = \",\")\n",
    "df = df.drop(columns=['FELT_LIFE','REMOVAL_DATE', 'INSTALLATION_DATE', 'REPORT_DATE'])\n",
    "heimbach_features = [col for col in database.get_heimbach_important_features() if col in df.columns]\n",
    "heimbach_feature_indexes = [df.columns.get_loc(feature) for feature in heimbach_features if feature in df.columns]\n",
    "\n",
    "psoqx_features_df = pd.read_csv(\"data/PSO/20_FS_pso_Features.csv\", sep = \",\")\n",
    "feature_indexes_dict = {}\n",
    "psoqx_feature_names = {}\n",
    "MLA = [\n",
    "    ('Gradient Boosting', xgb.XGBRegressor())\n",
    "]\n",
    "\n",
    "# Features der Modelle auslesen\n",
    "for model_name, model_instance in MLA:\n",
    "    \n",
    "    feature_names_current_model = psoqx_features_df[model_name].dropna().tolist()\n",
    "    feature_indexes = [df.columns.get_loc(feature_name) for feature_name in feature_names_current_model]\n",
    "    feature_indexes_dict[model_name] = feature_indexes\n",
    "    \n",
    "    \n",
    "for model_name, model_instance in MLA:\n",
    "    \n",
    "    psoqx_feature_names[model_name] = [df.columns[index] for index in feature_indexes_dict[model_name]]\n",
    "    heimbach_features = [df.columns[index] for index in heimbach_feature_indexes]\n",
    "    gemeinsame_spalten = vergleiche_spalten(heimbach_features, psoqx_feature_names[model_name])\n",
    "    print(\"Gemeinsame Spalten:\", gemeinsame_spalten)"
   ]
  },
  {
   "cell_type": "code",
   "execution_count": null,
   "id": "12fc651a-baab-4004-acb2-910c291602b4",
   "metadata": {},
   "outputs": [],
   "source": []
  }
 ],
 "metadata": {
  "kernelspec": {
   "display_name": "Python 3 (ipykernel)",
   "language": "python",
   "name": "python3"
  },
  "language_info": {
   "codemirror_mode": {
    "name": "ipython",
    "version": 3
   },
   "file_extension": ".py",
   "mimetype": "text/x-python",
   "name": "python",
   "nbconvert_exporter": "python",
   "pygments_lexer": "ipython3",
   "version": "3.10.6"
  }
 },
 "nbformat": 4,
 "nbformat_minor": 5
}
