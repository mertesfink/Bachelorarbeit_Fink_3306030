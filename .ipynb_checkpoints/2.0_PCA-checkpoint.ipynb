{
 "cells": [
  {
   "cell_type": "markdown",
   "id": "c06f081d-e7fd-44e3-8652-5fbf76c7ff7e",
   "metadata": {
    "tags": []
   },
   "source": [
    "# Alle Features Regression FELT_LIFE_NET"
   ]
  },
  {
   "cell_type": "markdown",
   "id": "ea94a3ce-c762-4fa9-b555-4ce029357825",
   "metadata": {
    "tags": []
   },
   "source": [
    "## Code"
   ]
  },
  {
   "cell_type": "code",
   "execution_count": 1,
   "id": "b3274b5f-4682-44d6-adc4-142a2dbcd86d",
   "metadata": {
    "tags": []
   },
   "outputs": [],
   "source": [
    "import src.database\n",
    "from src.Dataset import Dataset\n",
    "import numpy as np\n",
    "import pandas as pd\n",
    "import src.plot \n",
    "import shap\n",
    "\n",
    "from sklearn.linear_model import LinearRegression\n",
    "from sklearn.ensemble import RandomForestRegressor\n",
    "from sklearn.svm import SVR\n",
    "import xgboost as xgb"
   ]
  },
  {
   "cell_type": "code",
   "execution_count": null,
   "id": "272e68b3-658b-453e-a4ab-d71e90869e06",
   "metadata": {
    "tags": []
   },
   "outputs": [
    {
     "name": "stdout",
     "output_type": "stream",
     "text": [
      "Linear Regressor\n"
     ]
    }
   ],
   "source": [
    "#Vorverarbeitete Daten aus CSV auslesen\n",
    "df = pd.read_csv(\"data/df_preprocessed_all.csv\", sep = \",\")\n",
    "\n",
    "#Das Label nennen\n",
    "label = df.columns.get_loc('FELT_LIFE_NET')\n",
    "header = df.columns\n",
    "\n",
    "#Machine Learning Algorithms die benutzt werden\n",
    "MLA = [\n",
    "    ('Linear Regressor',LinearRegression()),\n",
    "    ('SVR', SVR(kernel='linear')),\n",
    "    ('Random Forest',RandomForestRegressor()),\n",
    "    ('Gradient Boosting', xgb.XGBRegressor())\n",
    "]\n",
    "\n",
    "results = {}\n",
    "predictions = {}\n",
    "\n",
    "# Für alle Modelle in MLA Trainvalidierung, Cross-Validierung und Testvalidierung \n",
    "for model_name, model_instance in MLA:\n",
    "    \n",
    "    dataset = Dataset(df, 'df', label, divide_dataset=False, header=header)\n",
    "    dataset.divide_dataset(model_instance, normalize=False, shuffle=True, all_features=True, all_instances=True, evaluate=True, partial_sample=False,folds=5)\n",
    "    \n",
    "    selected_features = list(range(df.shape[1]))\n",
    "    num_selected_features = len(selected_features)\n",
    "    \n",
    "    dataset.set_CV()\n",
    "    cv = dataset.get_CV()\n",
    "    \n",
    "    train = dataset.get_train_metrics()\n",
    "    validation = dataset.get_validation_metrics()\n",
    "    test = dataset.get_test_metrics()\n",
    "    traintime = dataset.get_traintime()\n",
    "    \n",
    "    #dataset.plot_shapley_values(\"All_Features_\"+model_name)\n",
    "    \n",
    "    results[model_name] = {\n",
    "        'Model_name': model_name,\n",
    "        'CV_TrainMAE': cv['CV_TrainMAE'],\n",
    "        'CV_TrainRMSE': cv['CV_TrainRMSE'],\n",
    "        'CV_TestMAE': cv['CV_TestMAE'],\n",
    "        'CV_TestRMSE': cv['CV_TestRMSE'],\n",
    "        'CV_fit_time_ges': cv['CV_fit_time'],\n",
    "        'TrainRMSE': train['TrainRMSE'],\n",
    "        'TrainMAE': train['TrainMAE'],\n",
    "        'ValidationRMSE': validation['ValidationRMSE'],\n",
    "        'ValidationMAE': validation['ValidationMAE'],\n",
    "        'TestRMSE': test['TestRMSE'],\n",
    "        'TestMAE': test['TestMAE'],\n",
    "        'TrainTime_ges': traintime,\n",
    "        'Features': selected_features,\n",
    "        'Feature-Anzahl': num_selected_features\n",
    "    }\n",
    "    \n",
    "    predictions[model_name] = {\n",
    "        'Model_name': model_name,\n",
    "        'y_train': dataset.get_y_train(),\n",
    "        'y_val': dataset.get_y_val(),\n",
    "        'y_test': dataset.get_y_test(),\n",
    "        'pred_train': dataset.get_y_pred_train(),\n",
    "        'pred_val': dataset.get_y_pred_val(),\n",
    "        'pred_test':dataset.get_y_pred_test()\n",
    "    }\n",
    "    print(model_name)"
   ]
  },
  {
   "cell_type": "markdown",
   "id": "d5a65398-3510-4a57-93d3-e6e8c7ad272b",
   "metadata": {
    "tags": []
   },
   "source": [
    "## Speichern der Ergebnisse"
   ]
  },
  {
   "cell_type": "code",
   "execution_count": null,
   "id": "7a2aa95e-b9ab-40a5-adbb-3e99322f76ff",
   "metadata": {},
   "outputs": [],
   "source": [
    "df_metrics = pd.DataFrame(results)\n",
    "df_metrics = df_metrics.transpose()\n",
    "df_metrics.to_csv('data/AllFeatures/All_metrics.csv', index=False)"
   ]
  },
  {
   "cell_type": "code",
   "execution_count": null,
   "id": "fa6e6f5d-50cf-4fa9-945c-8e6de438da35",
   "metadata": {},
   "outputs": [],
   "source": [
    "# Features speichern\n",
    "df_features = pd.DataFrame()\n",
    "\n",
    "# Maximale Anzahl von ausgewählten Features über alle Modelle bestimmen\n",
    "max_selected_features = max(len(results[model_name]['Features']) for model_name, _ in MLA)\n",
    "\n",
    "# Iteration über die Modelle und Hinzufügen der Feature-Namen in df_features_heimbach\n",
    "for model_name, model_instance in MLA:\n",
    "    selected_features = df.columns[results[model_name]['Features']]\n",
    "    \n",
    "    # Auffüllen der nicht ausgewählten Features mit NaN\n",
    "    if len(selected_features) < max_selected_features:\n",
    "        selected_features = np.append(selected_features, [np.nan] * (max_selected_features - len(selected_features)))\n",
    "    \n",
    "    # Die ausgewählten Spaltennamen in eine neue Spalte in df_features_chcqx einfügen\n",
    "    df_features[model_name] = selected_features\n",
    "\n",
    "df_features.to_csv('data/AllFeatures/All_Features.csv', index=False)"
   ]
  },
  {
   "cell_type": "code",
   "execution_count": null,
   "id": "d81793d1-0cf2-4f29-964c-68727b3c507a",
   "metadata": {},
   "outputs": [],
   "source": [
    "flattened_data = []\n",
    "# Iteriere über die Modelle und ihre Daten\n",
    "for model_name, data in predictions.items():\n",
    "    model_data = data.copy()\n",
    "    model_data.pop('Model_name')  # Entferne den Eintrag 'Model_name'\n",
    "    for data_type, values in model_data.items():\n",
    "        # Iteriere über die Werte in jedem Datenfeld und füge sie zur flattened_data-Liste hinzu\n",
    "        for value in values:\n",
    "            flattened_data.append({'Model_name': model_name, 'Data_type': data_type, 'Value': value})\n",
    "\n",
    "\n",
    "df = pd.DataFrame(flattened_data)\n",
    "df.to_csv('data/AllFeatures/All_predictions.csv', index=False)"
   ]
  }
 ],
 "metadata": {
  "kernelspec": {
   "display_name": "Python 3 (ipykernel)",
   "language": "python",
   "name": "python3"
  },
  "language_info": {
   "codemirror_mode": {
    "name": "ipython",
    "version": 3
   },
   "file_extension": ".py",
   "mimetype": "text/x-python",
   "name": "python",
   "nbconvert_exporter": "python",
   "pygments_lexer": "ipython3",
   "version": "3.10.6"
  }
 },
 "nbformat": 4,
 "nbformat_minor": 5
}
