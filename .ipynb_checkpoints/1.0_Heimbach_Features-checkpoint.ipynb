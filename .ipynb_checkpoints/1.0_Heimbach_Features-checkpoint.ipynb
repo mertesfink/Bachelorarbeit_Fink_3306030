{
 "cells": [
  {
   "cell_type": "markdown",
   "id": "f020e0ca-13a4-4d5d-82c2-5654af8fc0b2",
   "metadata": {
    "tags": []
   },
   "source": [
    "# Heimbach Features Regression FELT_LIFE_NET"
   ]
  },
  {
   "cell_type": "markdown",
   "id": "57f3502c-2f3a-470b-b5cd-b055bc23a670",
   "metadata": {
    "tags": []
   },
   "source": [
    "## Code"
   ]
  },
  {
   "cell_type": "code",
   "execution_count": 1,
   "id": "78099d34-ef9a-47c5-9a95-38b47c45239e",
   "metadata": {
    "tags": []
   },
   "outputs": [],
   "source": [
    "from src import database\n",
    "from src.Dataset import Dataset\n",
    "from src import plot\n",
    "\n",
    "import numpy as np\n",
    "import pandas as pd\n",
    "\n",
    "from sklearn.linear_model import LinearRegression\n",
    "from sklearn.ensemble import RandomForestRegressor\n",
    "from sklearn.svm import SVR\n",
    "import xgboost as xgb"
   ]
  },
  {
   "cell_type": "code",
   "execution_count": 2,
   "id": "7d584f30-6bf0-45dd-9b24-6fe6562f8f76",
   "metadata": {},
   "outputs": [
    {
     "name": "stdout",
     "output_type": "stream",
     "text": [
      "{'CV_TrainMAE': 33.74829898454959, 'CV_TrainRMSE': 71.23153326207685, 'CV_TestMAE': 33.92389002562479, 'CV_TestRMSE': 71.02406493645681, 'CV_fit_time': 0.062043190002441406}\n",
      "Linear Regressor\n",
      "{'CV_TrainMAE': 33.43864667898586, 'CV_TrainRMSE': 72.25570770519717, 'CV_TestMAE': 33.52920586642033, 'CV_TestRMSE': 71.91473191802228, 'CV_fit_time': 0.9816241264343262}\n",
      "SVR\n",
      "{'CV_TrainMAE': 16.073823745583038, 'CV_TrainRMSE': 41.83560603722462, 'CV_TestMAE': 35.83191296249204, 'CV_TestRMSE': 71.80100161261517, 'CV_fit_time': 9.83640685081482}\n",
      "Random Forest\n",
      "{'CV_TrainMAE': 15.654879270019242, 'CV_TrainRMSE': 36.46724452473604, 'CV_TestMAE': 38.147714087519944, 'CV_TestRMSE': 73.51113474213716, 'CV_fit_time': 0.5152637958526611}\n",
      "Gradient Boosting\n"
     ]
    }
   ],
   "source": [
    "#Vorverarbeitete Daten aus CSV auslesen\n",
    "df = pd.read_csv(\"data/df_preprocessed_all.csv\", sep = \",\")\n",
    "\n",
    "# Überprüfen Sie die Existenz der ausgewählten Spalten im DataFrame, da nur bei Preprocessing Spalten entfernt wurden in df_preprocessed\n",
    "heimbach_features = [col for col in database.get_heimbach_important_features() if col in df.columns]\n",
    "df_heimbach= df[heimbach_features]\n",
    "\n",
    "#Das Label nennen\n",
    "label = df_heimbach.columns.get_loc('FELT_LIFE_NET')\n",
    "header = df_heimbach.columns\n",
    "\n",
    "#Machine Learning Algorithms die benutzt werden\n",
    "MLA = [\n",
    "    ('Linear Regressor',LinearRegression()),\n",
    "    ('SVR', SVR()),\n",
    "    ('Random Forest',RandomForestRegressor()),\n",
    "    ('Gradient Boosting', xgb.XGBRegressor())\n",
    "]\n",
    "\n",
    "results = {}\n",
    "predictions = {}\n",
    "\n",
    "# Für alle Modelle in MLA Trainvalidierung, Cross-Validierung und Testvalidierung \n",
    "for model_name, model_instance in MLA:\n",
    "    \n",
    "    dataset = Dataset(df_heimbach, 'df', label, divide_dataset=False, header=header)\n",
    "    dataset.divide_dataset(model_instance, normalize=False, shuffle=True, all_features=True, all_instances=True, evaluate=True, partial_sample=False,folds=5)\n",
    "    \n",
    "    selected_features = list(range(df_heimbach.shape[1]))\n",
    "    num_selected_features = len(selected_features)\n",
    "    \n",
    "    dataset.set_CV()\n",
    "    cv = dataset.get_CV()\n",
    "    \n",
    "    train = dataset.get_train_metrics()\n",
    "    validation = dataset.get_validation_metrics()\n",
    "    test = dataset.get_test_metrics()\n",
    "    traintime = dataset.get_traintime()\n",
    "    \n",
    "    #dataset.plot_shapley_values(\"All_Heimbach_\"+model_name)\n",
    "    \n",
    "    results[model_name] = {\n",
    "        'Model_name': model_name,\n",
    "        'CV_TrainMAE': cv['CV_TrainMAE'],\n",
    "        'CV_TrainRMSE': cv['CV_TrainRMSE'],\n",
    "        'CV_TestMAE': cv['CV_TestMAE'],\n",
    "        'CV_TestRMSE': cv['CV_TestRMSE'],\n",
    "        'CV_fit_time_ges': cv['CV_fit_time'],\n",
    "        'TrainRMSE': train['TrainRMSE'],\n",
    "        'TrainMAE': train['TrainMAE'],\n",
    "        'ValidationRMSE': validation['ValidationRMSE'],\n",
    "        'ValidationMAE': validation['ValidationMAE'],\n",
    "        'TestRMSE': test['TestRMSE'],\n",
    "        'TestMAE': test['TestMAE'],\n",
    "        'TrainTime_ges': traintime,\n",
    "        'Features': selected_features,\n",
    "        'Feature-Anzahl': num_selected_features\n",
    "    }\n",
    "    \n",
    "    predictions[model_name] = {\n",
    "        'Model_name': model_name,\n",
    "        'y_train': dataset.get_y_train(),\n",
    "        'y_val': dataset.get_y_val(),\n",
    "        'y_test': dataset.get_y_test(),\n",
    "        'pred_train': dataset.get_y_pred_train(),\n",
    "        'pred_val': dataset.get_y_pred_val(),\n",
    "        'pred_test':dataset.get_y_pred_test()\n",
    "    }\n",
    "    print(model_name)"
   ]
  },
  {
   "cell_type": "markdown",
   "id": "fc20d047-e3ca-4474-a41a-6cda3a4d88d6",
   "metadata": {
    "tags": []
   },
   "source": [
    "## Speichern der Ergebnisse"
   ]
  },
  {
   "cell_type": "code",
   "execution_count": 10,
   "id": "bbca5216-b973-409c-90ad-3dfccf05fc61",
   "metadata": {},
   "outputs": [],
   "source": [
    "# Metrics speichern\n",
    "df_metrics = pd.DataFrame(results)\n",
    "df_metrics = df_metrics.transpose()\n",
    "df_metrics.to_csv('data/Heimbach/All_Heimbach_metrics.csv', index=False)"
   ]
  },
  {
   "cell_type": "code",
   "execution_count": 11,
   "id": "53259695-b863-45c6-8dad-785260546b8a",
   "metadata": {},
   "outputs": [],
   "source": [
    "# Features speichern\n",
    "df_features_heimbach = pd.DataFrame()\n",
    "\n",
    "# Maximale Anzahl von ausgewählten Features über alle Modelle bestimmen\n",
    "max_selected_features = max(len(results[model_name]['Features']) for model_name, _ in MLA)\n",
    "\n",
    "# Iteration über die Modelle und Hinzufügen der Feature-Namen in df_features_heimbach\n",
    "for model_name, model_instance in MLA:\n",
    "    selected_features = df_heimbach.columns[results[model_name]['Features']]\n",
    "    \n",
    "    # Auffüllen der nicht ausgewählten Features mit NaN\n",
    "    if len(selected_features) < max_selected_features:\n",
    "        selected_features = np.append(selected_features, [np.nan] * (max_selected_features - len(selected_features)))\n",
    "    \n",
    "    # Die ausgewählten Spaltennamen in eine neue Spalte in df_features_chcqx einfügen\n",
    "    df_features_heimbach[model_name] = selected_features\n",
    "\n",
    "df_features_heimbach.to_csv('data/Heimbach/All_Heimbach_Features.csv', index=False)"
   ]
  },
  {
   "cell_type": "code",
   "execution_count": 12,
   "id": "3d808892-0527-43e4-ae54-eea9a9c22085",
   "metadata": {},
   "outputs": [],
   "source": [
    "flattened_data = []\n",
    "# Iteriere über die Modelle und ihre Daten\n",
    "for model_name, data in predictions.items():\n",
    "    model_data = data.copy()\n",
    "    model_data.pop('Model_name')  # Entferne den Eintrag 'Model_name'\n",
    "    for data_type, values in model_data.items():\n",
    "        # Iteriere über die Werte in jedem Datenfeld und füge sie zur flattened_data-Liste hinzu\n",
    "        for value in values:\n",
    "            flattened_data.append({'Model_name': model_name, 'Data_type': data_type, 'Value': value})\n",
    "\n",
    "\n",
    "df = pd.DataFrame(flattened_data)\n",
    "df.to_csv('data/Heimbach/All_Heimbach_predictions.csv', index=False)"
   ]
  }
 ],
 "metadata": {
  "kernelspec": {
   "display_name": "Python 3 (ipykernel)",
   "language": "python",
   "name": "python3"
  },
  "language_info": {
   "codemirror_mode": {
    "name": "ipython",
    "version": 3
   },
   "file_extension": ".py",
   "mimetype": "text/x-python",
   "name": "python",
   "nbconvert_exporter": "python",
   "pygments_lexer": "ipython3",
   "version": "3.10.6"
  }
 },
 "nbformat": 4,
 "nbformat_minor": 5
}
